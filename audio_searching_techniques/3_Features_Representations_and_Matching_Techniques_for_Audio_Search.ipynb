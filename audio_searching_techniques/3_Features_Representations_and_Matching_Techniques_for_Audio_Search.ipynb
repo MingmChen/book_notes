{
 "cells": [
  {
   "cell_type": "markdown",
   "metadata": {},
   "source": [
    "# 3. Features, Representations and Matching Techniques for Audio Search"
   ]
  },
  {
   "cell_type": "markdown",
   "metadata": {},
   "source": [
    "Different primary features and representations popular for for audio searching are discussed."
   ]
  },
  {
   "cell_type": "markdown",
   "metadata": {},
   "source": [
    "### 1. Primary Features\n",
    "* **MFCC**(Mel-Frequency Cepstral Coefficents)\n",
    "![](images/3_1.png)\n",
    "* **FBCC**(Fourier-Bessel Cepstral Coefficents)\n",
    "![](images/3_2.png)\n",
    "* **LPCC**(Linear Prediction Ceptral Coefficents)\n",
    "* **PLP**(Perceptual Linear Prediction)\n",
    "![](images/3_3.png)\n",
    "* **FDLP**(Frequency Domain Linear Prediction Cepstral Coefficients)\n",
    "![](images/3_4.png)"
   ]
  },
  {
   "cell_type": "markdown",
   "metadata": {},
   "source": [
    "### 2. Feature Representation for Audio Search\n",
    "\n",
    "#### a)Seam Patterns\n",
    "\n",
    "把语谱图当做图像处理，动态规划查找能量最大的频谱路径。（Seam represents the path of maximum spectral \"whiteness\" across frequency in spectrogram）\n",
    "\n",
    "* For similar type of sound, seams will be least variant/almost invariant.\n",
    "* For different sounds, seams will be different.\n",
    "\n",
    "#### b) Patches\n",
    "* extracted from the Mel-spectrogram\n",
    "\n",
    "#### c) Posteriorgrams\n",
    "* **Gaussian posteriorgrams** and **phonetic posteriorgrams** are the main posteriorgram representations.\n",
    "* Primary features such as MFCC/FBCC are used for obtaining posteriorgrams.\n",
    "* Phonetic posteriorgram is a time vs class matrix, representing the posterior probability of each phone class for each time frame.\n",
    "![](images/3_5.png)\n",
    "\n",
    "#### d) Lattice of Segment Labels\n",
    "* Word Lattice\n",
    "    1. inability to detect OOV words\n",
    "    2. recognition errors\n",
    "    3. slow decoding of LVCSR\n",
    "    4. need of large amount of data to train\n",
    "    5. increase in the computational cost\n",
    "    6. underfitting for another domain\n",
    "* Phone Lattice\n",
    "    1. it can avoid OOV problems\n",
    "    2. no deed for lexicon or pronunciation dictionary\n",
    "    3. language independent\n",
    "    4. reduce the computational demands\n",
    "* Confusion Network\n",
    "\n",
    "#### e) Bag of Acoustic Words and Inverted Indexing\n",
    "* 借鉴词袋模型的思路\n",
    "* word loop得到一系列的word，得到词频向量\n",
    "* 词频向量用于后续分类\n",
    "![](images/3_6.png)\n"
   ]
  },
  {
   "cell_type": "markdown",
   "metadata": {},
   "source": [
    "### 3. Matching Technique: Dynamic Time Warping"
   ]
  },
  {
   "cell_type": "markdown",
   "metadata": {},
   "source": [
    "### 4. Matching Technique: Minimum Edit Distance"
   ]
  },
  {
   "cell_type": "code",
   "execution_count": null,
   "metadata": {},
   "outputs": [],
   "source": []
  }
 ],
 "metadata": {
  "kernelspec": {
   "display_name": "Python 2",
   "language": "python",
   "name": "python2"
  },
  "language_info": {
   "codemirror_mode": {
    "name": "ipython",
    "version": 2
   },
   "file_extension": ".py",
   "mimetype": "text/x-python",
   "name": "python",
   "nbconvert_exporter": "python",
   "pygments_lexer": "ipython2",
   "version": "2.7.14"
  }
 },
 "nbformat": 4,
 "nbformat_minor": 2
}
