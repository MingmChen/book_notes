{
 "cells": [
  {
   "cell_type": "markdown",
   "metadata": {},
   "source": [
    "# 1. Audio Search Techniques"
   ]
  },
  {
   "cell_type": "markdown",
   "metadata": {},
   "source": [
    "##  Introduction\n",
    "\n",
    "** Main applications of speech processing:**\n",
    "* speech recognition\n",
    "* speaker recognition/verification\n",
    "* language recognition\n",
    "* audio search\n",
    "* speech enhancement\n",
    "* emotion recognition\n",
    "* speech coding\n",
    "* speech synthesis"
   ]
  },
  {
   "cell_type": "markdown",
   "metadata": {},
   "source": [
    "## Classification of Audio Search Techniques\n",
    "** KWS **: keyword spotting    \n",
    "** STD **: spoken term detection   \n",
    "** QbE **: query by example\n",
    "![](images/1_1.png)"
   ]
  },
  {
   "cell_type": "markdown",
   "metadata": {},
   "source": [
    "#### Main applications of Audio Search:\n",
    "* Information retrival\n",
    "* Indexing and classifying of audio data\n",
    "* **Keyword spotting**, monitoring and retrival\n",
    "* Surveillance\n",
    "* Music retrival\n",
    "* Monitoring television audio data for occurance of a commercial\n",
    "* Entertainment industry to play on demand\n",
    "* Activation of some gadgets based on an audio input/\n",
    "* Consumer search\n",
    "* ..."
   ]
  },
  {
   "cell_type": "markdown",
   "metadata": {},
   "source": [
    "#### Characteristics of an audio search system:\n",
    "1. Computation advantages\n",
    "2. Language Independency\n",
    "3. Fast response\n",
    "4. Less memory footage\n",
    "5. Higher Accuracy\n",
    "6. Ability to handle text and audio queries"
   ]
  },
  {
   "cell_type": "markdown",
   "metadata": {},
   "source": [
    "### Databases\n",
    "![](images/1_2.png)"
   ]
  },
  {
   "cell_type": "markdown",
   "metadata": {},
   "source": [
    "### Platforms for Benchmarking\n",
    "![](images/1_3.png)"
   ]
  },
  {
   "cell_type": "code",
   "execution_count": null,
   "metadata": {},
   "outputs": [],
   "source": []
  }
 ],
 "metadata": {
  "kernelspec": {
   "display_name": "Python 2",
   "language": "python",
   "name": "python2"
  },
  "language_info": {
   "codemirror_mode": {
    "name": "ipython",
    "version": 2
   },
   "file_extension": ".py",
   "mimetype": "text/x-python",
   "name": "python",
   "nbconvert_exporter": "python",
   "pygments_lexer": "ipython2",
   "version": "2.7.12"
  }
 },
 "nbformat": 4,
 "nbformat_minor": 2
}
