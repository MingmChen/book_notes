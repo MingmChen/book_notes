{
 "cells": [
  {
   "cell_type": "markdown",
   "metadata": {},
   "source": [
    "# 5. Spoken Term Detection Techniques "
   ]
  },
  {
   "cell_type": "markdown",
   "metadata": {},
   "source": [
    "**KWS**: Search and retrive a closed set of keywords.\n",
    "**STD**: Search and retrive any unspecified spoken word from an audio database\n",
    "\n",
    "STD can broadly classify into two:\n",
    "* Text-based STD\n",
    "* Query-by-example STDz"
   ]
  },
  {
   "cell_type": "markdown",
   "metadata": {},
   "source": [
    "### 1. Spoken Term Detection Using Supervised Learning\n",
    "\n",
    "#### a) Phonetic Posteriorgram Templates\n",
    "QbE-STD using phonetic posteriorgrams:\n",
    "<img src=\"images/5_1.png\" width=750 />\n",
    "\n",
    "#### b) Segment-Based Bag of Acoustic Words\n",
    "QbE-STD using segment-based Bag of Acoustic Words(BoAw):\n",
    "<img src=\"images/5_2.png\" width=750 />\n",
    "\n",
    "#### c) Phonetic Decoding\n",
    "<img src=\"images/5_3.png\" width=750 />\n",
    "> letter to sound 来解决OOV的问题。"
   ]
  },
  {
   "cell_type": "markdown",
   "metadata": {},
   "source": [
    "### 2. Spoken Term Detection using Unsupervised Learning\n",
    "\n",
    "#### a) Gaussian Posteriorgrams\n",
    "<img src=\"images/5_4.png\" width=750 />\n",
    "\n",
    "#### b) Acoustic Segment Modeling(ASM) Posteriorgrams\n",
    "\n",
    "#### c) Group Delay-Based Segmentation\n",
    "> * Use Group Delay(GD) functions to segment the speech data into smaller acoustic units.\n",
    "* Keyword detection done as below.\n",
    "<img src=\"images/5_5.png\" width=750 />\n",
    "\n",
    "> Advantages:\n",
    "1. No prior knowledge required\n",
    "2. Fast algorithm\n",
    "3. Seamless operations on OOV words\n",
    "4. Language- and text-independent approach\n",
    "\n",
    "#### d) Morphological Image Processing Techniques\n",
    "<img src=\"images/5_6.png\" width=750 />"
   ]
  },
  {
   "cell_type": "code",
   "execution_count": null,
   "metadata": {},
   "outputs": [],
   "source": []
  }
 ],
 "metadata": {
  "kernelspec": {
   "display_name": "Python 2",
   "language": "python",
   "name": "python2"
  },
  "language_info": {
   "codemirror_mode": {
    "name": "ipython",
    "version": 2
   },
   "file_extension": ".py",
   "mimetype": "text/x-python",
   "name": "python",
   "nbconvert_exporter": "python",
   "pygments_lexer": "ipython2",
   "version": "2.7.14"
  }
 },
 "nbformat": 4,
 "nbformat_minor": 2
}
