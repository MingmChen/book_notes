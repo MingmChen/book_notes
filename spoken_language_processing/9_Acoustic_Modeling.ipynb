{
 "cells": [
  {
   "cell_type": "markdown",
   "metadata": {},
   "source": [
    "# 9 Acoustic Modeling\n",
    "\n",
    "对于给定的声学特征 \\\\(\\mathbf{X}=X_1 X_2 ... X_n\\\\)，语音识别的目标是需要一个字序列 \\\\(\\mathbf{\\hat{W}}={\\omega}_1 {\\omega}_2 ... {\\omega}_m\\\\) 使得它的后验概率 \\\\(P(\\mathbf{W}|\\mathbf{X})\\\\) 最大，即\n",
    "\n",
    "$$\\hat{W}=\\mathop{\\arg\\max}_{\\omega}P(\\mathbf{W}|\\mathbf{X})=\\mathop{\\arg\\max}_{\\omega}\\frac{P(\\mathbf{W})P(\\mathbf{X}|\\mathbf{W})}{P(\\mathbf{X})}$$\n",
    "\n",
    "其中\\\\(P(X|W)\\\\)由声学模型得到，\\\\(P(W)\\\\)由语言模型得到。"
   ]
  },
  {
   "cell_type": "markdown",
   "metadata": {},
   "source": [
    "## 9.1 Variability in the Speech Signal\n",
    "在声学模型层面，影响识别率的因素有：\n",
    "* Context Variability\n",
    "    1. Word 层面相同发音的词活短语。e.g. Mr. **Wright** should **write** to Ms. **Wright right** away about his **Ford** or **four door** Honda.\n",
    "    2. Phoneme 层面。Phoneme的发音与上下文有关。e.g. Phoneme /ee/ 在peat 和 wheel 的发音也不一样。\n",
    "* Style Variability。 \n",
    "    1. 口音，语速等\n",
    "* Speaker Variability。 \n",
    "    1. 说话人差异，对同样的词，每个人的发音也不一样。\n",
    "    2. 同样的人，在不同的时间段、或不同的环境下，发音也会不一样。\n",
    "* Environment Variability。 \n",
    "    1. 环境差异，不同的环境，背景噪声数据不一样。"
   ]
  },
  {
   "cell_type": "markdown",
   "metadata": {},
   "source": [
    "## 9.2 How to Measure Speech Recognition Errors\n",
    "语音识别性能评估的常用指标：**Word error rate**. 它又可细分为三种情况：\n",
    "* Substitution: an incorrect word was substituted for the correct word\n",
    "* Deletion: a correct word was omitted in the recognized sentence\n",
    "* Insertion: an extra word was added in the recognized sentence\n",
    "\n",
    "$$Word Error Rate=100\\% \\times \\frac{Subs + Dels + Ins}{No.\\ of\\ word\\ in\\ the\\ correct\\ sentence}$$\n",
    "\n",
    "Subs, Dels 和 Ins 的计算其实就是求解**最大字符子串**的问题，可通过DP（动态规划）算法来计算，算法如下图：\n",
    "![图9-1](./images/9_1.png)\n",
    "对于反馈 拒绝/接受 结果的应用场景，e.g. speaker or command verification, wakeup, keywords spotting. 常采用FA-FR曲线（ROC,  receiver operating characteristic）来评价性能：\n",
    " * FR: False rejection\n",
    " * FA: False acceptance"
   ]
  },
  {
   "cell_type": "code",
   "execution_count": null,
   "metadata": {},
   "outputs": [],
   "source": []
  }
 ],
 "metadata": {
  "kernelspec": {
   "display_name": "Python 2",
   "language": "python",
   "name": "python2"
  },
  "language_info": {
   "codemirror_mode": {
    "name": "ipython",
    "version": 2
   },
   "file_extension": ".py",
   "mimetype": "text/x-python",
   "name": "python",
   "nbconvert_exporter": "python",
   "pygments_lexer": "ipython2",
   "version": "2.7.12"
  }
 },
 "nbformat": 4,
 "nbformat_minor": 2
}
